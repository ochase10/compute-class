{
 "cells": [
  {
   "cell_type": "markdown",
   "metadata": {},
   "source": [
    "# Problem 1"
   ]
  },
  {
   "cell_type": "code",
   "execution_count": 1,
   "metadata": {},
   "outputs": [],
   "source": [
    "import numpy as np\n",
    "import matplotlib.pyplot as pl\n",
    "from scipy.spatial import KDTree"
   ]
  },
  {
   "cell_type": "code",
   "execution_count": null,
   "metadata": {},
   "outputs": [],
   "source": [
    "rng = np.random.default_rng(66727)"
   ]
  },
  {
   "cell_type": "code",
   "execution_count": null,
   "metadata": {},
   "outputs": [],
   "source": [
    "def gen_catalog(n, size=100, dims=3, rng=rng):\n",
    "    '''\n",
    "    Generate a catlog of 'n' points in 'dims' dimensions distributed uniformly at random\n",
    "\n",
    "    n: number of samples\n",
    "    size: side length of cubical box\n",
    "    dims: dimensions of cube\n",
    "    rng: numpy random number generator object\n",
    "    '''\n",
    "    return rng.random((n,dims))*size\n",
    "\n",
    "\n",
    "def sq_dist(x1,x2):\n",
    "    return np.sum((x1-x2)**2)\n",
    "\n",
    "def sep(x1,x2):\n",
    "    return (x1-x2) / np.sqrt(sq_dist(x1,x2))\n",
    "\n",
    "def soft_grav(x1, x2, m = 1, eta = 1):\n",
    "    return -m / (distf(x1,x2) + eta**2) * sep\n",
    "\n",
    "def brute_acc(cat, f, eta=1):\n",
    "    acc = np.zeros(cat.shape)\n",
    "\n",
    "    for i in len(cat):\n",
    "        for j in len(cat):\n",
    "            if i<=j:\n",
    "                continue\n",
    "            a = f(cat[i], cat[j], eta=eta)\n",
    "            acc[i] -= a\n",
    "            acc[j] += a\n",
    "\n",
    "\n",
    "def coms(node, cat, dic):\n",
    "    if node isinstance(KDTree.leafnode):\n",
    "        com = np.average(cat[node.idx], axis=0)\n",
    "        dic[node] = com\n",
    "        return(com)\n",
    "    else:\n",
    "        lcom = coms(node.less, cat)\n",
    "        rcom = coms(node.greater, cat)\n",
    "        dic[node] = lcom * node.less.children + rcom * node.greater.children\n",
    "\n",
    "    return dic\n",
    "\n",
    "\n",
    "def traverse(i, cat, node)\n",
    "\n",
    "\n",
    "\n",
    "def tree_acc(cat, f):\n",
    "    tree = KDTree(cat)\n",
    "    dic = {}\n",
    "    coms(tree.tree, cat, dic)\n",
    "    acc = np.zeros(cat.shape)\n",
    "    level = 0\n",
    "\n",
    "    for i in range(len(cat)):\n",
    "        unres = [tree.tree]\n",
    "        for \n",
    "\n",
    "\n",
    "\n"
   ]
  },
  {
   "cell_type": "code",
   "execution_count": null,
   "metadata": {},
   "outputs": [],
   "source": []
  }
 ],
 "metadata": {
  "kernelspec": {
   "display_name": "Python 3 (ipykernel)",
   "language": "python",
   "name": "python3"
  },
  "language_info": {
   "codemirror_mode": {
    "name": "ipython",
    "version": 3
   },
   "file_extension": ".py",
   "mimetype": "text/x-python",
   "name": "python",
   "nbconvert_exporter": "python",
   "pygments_lexer": "ipython3",
   "version": "3.11.9"
  }
 },
 "nbformat": 4,
 "nbformat_minor": 4
}
