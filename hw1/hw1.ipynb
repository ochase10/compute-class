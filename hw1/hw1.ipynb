{
 "cells": [
  {
   "cell_type": "code",
   "execution_count": 2,
   "id": "a4a6dc61-1d81-47f7-8f42-f0ce35f7e176",
   "metadata": {
    "tags": []
   },
   "outputs": [],
   "source": [
    "#import the necessary libraries\n",
    "import numpy as np\n",
    "from matplotlib import pyplot as pl\n",
    "from scipy.integrate import quad #accurate integration function"
   ]
  },
  {
   "cell_type": "markdown",
   "id": "ad55fd47-0c77-41f7-bc2f-8fb93f870eb9",
   "metadata": {
    "tags": []
   },
   "source": [
    "# Problem 1"
   ]
  },
  {
   "cell_type": "code",
   "execution_count": 46,
   "id": "75a89468-4e10-4fb6-8b89-d6b826e5e4e3",
   "metadata": {
    "tags": []
   },
   "outputs": [],
   "source": [
    "truth = 2 * (1 - 5**-0.5)"
   ]
  },
  {
   "cell_type": "code",
   "execution_count": 41,
   "id": "9a400189-fca0-4e5d-83a9-495c73b07668",
   "metadata": {
    "tags": []
   },
   "outputs": [],
   "source": [
    "# Function for rectangle rule for integration\n",
    "# Inputs: - f: 1d function to integrate\n",
    "#         - a: lower bound\n",
    "#         - b: upper bound\n",
    "#         - n: number of intervals to divide the integration into\n",
    "# Returns: - tot: the definite integral result\n",
    "#          - err: an estimate of the error on tot\n",
    "#          - dx: the interval width\n",
    "def rect(f, a, b, n):\n",
    "    #initialize the integral and error\n",
    "    tot, err = 0, 0\n",
    "\n",
    "    #compute the interval width\n",
    "    dx = (b - a)/n\n",
    "\n",
    "    #initialize the independent variable to the lower bound\n",
    "    x = a\n",
    "\n",
    "    #initalize a value to store an additional function call\n",
    "    #to avoid doubled function calls when estimating error\n",
    "    next_val = f(a)\n",
    "\n",
    "    #initialize variable for function values\n",
    "    val = 0\n",
    "\n",
    "    #loop to upper bound\n",
    "    while x < b:\n",
    "        #shift the next function value to be current\n",
    "        val = next_val\n",
    "        #add function value to running sum (without dx factor)\n",
    "        tot += val\n",
    "        #increment independent variable\n",
    "        x += dx\n",
    "        #compute the next function value\n",
    "        next_val = f(x)\n",
    "        #estimate the error using approximate area of triangle\n",
    "        #formed by the current and next function values\n",
    "        err += dx * abs(val-next_val) / 2\n",
    "\n",
    "    #returning while multiplying by common dx factor\n",
    "    return tot*dx, err, dx\n",
    "\n",
    "# Function for the rectangle rule implemented using numpy vectorization\n",
    "# (Performs the same computation as rect)\n",
    "# Inputs: - f: 1d function to integrate\n",
    "#         - a: lower bound\n",
    "#         - b: upper bound\n",
    "#         - n: number of intervals to divide the integration into\n",
    "# Returns: - the definite integral result\n",
    "#          - err: an estimate of the error on tot\n",
    "def rect_vec(f, a, b, n):\n",
    "    #initialize independent variable array n long [a,b-dx]\n",
    "    #holding the left edges of the rectangles\n",
    "    xs = np.linspace(a, b, n+1)[:-1]\n",
    "    #compute rectangle widths\n",
    "    dx = (xs[1]-xs[0])\n",
    "\n",
    "    #evaluate the function at all the x values \"simultaneously\" using \n",
    "    #  numpy vectorization\n",
    "    #the vectorize function works but I found it increases runtime\n",
    "    #  substantially due to apparent overhead\n",
    "    #for simple arithmetic functions, numpy's built in vectorization\n",
    "    #  does not incur this additional overhead\n",
    "    ## vals = np.vectorize(f)(xs)\n",
    "    vals = f(xs)\n",
    "    \n",
    "    #estimate error using the same idea as rect() but using array vectorization\n",
    "    err = 0.5 * np.sum(np.abs(vals[1:]-vals[:-1])) * dx\n",
    "    \n",
    "    return np.sum(vals)*dx, err\n",
    "\n",
    "\n",
    "# Function \n",
    "# Inputs: - f: 1d function to integrate\n",
    "#         - a: lower bound\n",
    "#         - b: upper bound\n",
    "#         - n: number of intervals to divide the integration into\n",
    "# Returns: - tot: the definite integral result\n",
    "#          - err: an estimate of the error on tot\n",
    "def rect_cen(f, a, b, n):\n",
    "    #initialize the integral and error\n",
    "    tot, err = 0, 0\n",
    "    #compute the interval width\n",
    "    dx = (b - a)/n\n",
    "    #initializing x to be the center of the rectangle\n",
    "    #  rather than the left edge\n",
    "    x = a + dx/2\n",
    "    #initialize variables to store current and upcoming function\n",
    "    #  values to avoid duplicated function calls\n",
    "    val = 0\n",
    "    next_val = f(x)\n",
    "\n",
    "    #estimate error using the areas of triangles formed at the \n",
    "    #  beginning and end of the integration interval\n",
    "    err = abs(next_val - f(a)) / 2 * dx\n",
    "\n",
    "    #loop over the interval of integration\n",
    "    while x < b:\n",
    "        #using the function value computed previously\n",
    "        val = next_val\n",
    "        #adding to the running sum\n",
    "        tot += val\n",
    "        #incrementing x\n",
    "        x += dx\n",
    "        #computing next function value\n",
    "        next_val = f(x)\n",
    "\n",
    "    #returning while multiplying by common dx factor\n",
    "    return tot*dx, err\n",
    "\n",
    "# Function for the trapezoid rule for integration\n",
    "# Inputs: - f: 1d function to integrate\n",
    "#         - a: lower bound\n",
    "#         - b: upper bound\n",
    "#         - n: number of intervals to divide the integration into\n",
    "# Returns: - tot: the definite integral result\n",
    "#          - err: an estimate of the error on tot\n",
    "def trap(f, a, b, n):\n",
    "    #initialize the integral\n",
    "    tot = 0\n",
    "    #compute the interval width\n",
    "    dx = (b - a)/n\n",
    "    #initializing x to its second value since next_val will\n",
    "    #  already hold f(a+dx) so we don't want to duplicate this\n",
    "    #  after the first loop evaluation\n",
    "    x = a+dx\n",
    "    #initialize variables to store current and upcoming function\n",
    "    #  values to avoid duplicated function calls\n",
    "    val = f(a)\n",
    "    next_val = f(x)\n",
    "\n",
    "    #loop over the interval of integration being sure not\n",
    "    #  to overrun the right edge\n",
    "    while x < b-dx:\n",
    "        #adding to the running integral \n",
    "        tot += 0.5 * (val + next_val)\n",
    "        #shifting to the next function value\n",
    "        val = next_val\n",
    "        #incrementing x\n",
    "        x += dx\n",
    "        #computing next function value\n",
    "        next_val = f(x)\n",
    "\n",
    "    #returning while multiplying by common dx factor\n",
    "    #rather than estimating second derivatives to get an error\n",
    "    # estimate, I use a very bad estimation assuming f'' ~ dx\n",
    "    return tot*dx, tot*dx**3 / 2\n",
    "\n",
    "\n",
    "\n",
    "# Function for Simpson's rule for integration\n",
    "# Inputs: - f: 1d function to integrate\n",
    "#         - a: lower bound\n",
    "#         - b: upper bound\n",
    "#         - n: number of intervals to divide the integration into\n",
    "# Returns: - the definite integral result\n",
    "#          - err: an estimate of the error on tot\n",
    "def simpson(f, a, b, n):\n",
    "    dx = (b - a)/n\n",
    "    dx3 = dx**3\n",
    "    tot, err = 0, 0\n",
    "    tot += f(a) + f(b)\n",
    "    err += tot * dx**3\n",
    "    x = a + dx\n",
    "    while x < b:\n",
    "        fx = f(x)\n",
    "        tot += 4*fx\n",
    "        #err += fx*dx3\n",
    "        x += 2*dx\n",
    "    x = a+2*dx\n",
    "    while x < b:\n",
    "        fx = f(x)\n",
    "        tot += 2*fx\n",
    "        #err += fx*dx3\n",
    "        x += 2*dx\n",
    "\n",
    "    #returning while multiplying by common dx factor\n",
    "        #rather than estimating third derivatives to get an error\n",
    "        # estimate, I use a very bad estimation assuming f''' ~ dx\n",
    "    return tot * dx / 3, tot * dx**4 / 6\n"
   ]
  },
  {
   "cell_type": "code",
   "execution_count": 4,
   "id": "664c7dcf-a965-4e05-9e92-fb9b2d070128",
   "metadata": {
    "tags": []
   },
   "outputs": [],
   "source": [
    "f = lambda x: x**(-3/2)\n",
    "a, b = 1, 5"
   ]
  },
  {
   "cell_type": "code",
   "execution_count": 42,
   "id": "4a36c43d-2ab0-4a0b-9c81-107ded222aee",
   "metadata": {
    "tags": []
   },
   "outputs": [
    {
     "name": "stdout",
     "output_type": "stream",
     "text": [
      "1.123980330319958 0.01821114561800018\n",
      "1.12398033031996 0.018189462681181722\n",
      "1.1054746386160417 0.0005853422945750131\n",
      "1.0985265938232416 0.0017576425501171866\n",
      "1.1055728090000843 5.444307667957722e-13\n",
      "1.105572994660321 7.075667165826054e-05\n"
     ]
    }
   ],
   "source": [
    "t1, e1, step = rect(f, a, b, 100)\n",
    "t2, e2 = rect_vec(f, a, b, 100)\n",
    "t3, e3 = rect_cen(f, a, b, 100)\n",
    "tt, et = trap(f, a, b, 100)\n",
    "q, qe, *_ = quad(f, a, b)\n",
    "s, se = simpson(f, a, b, 100)\n",
    "print(t1, e1)\n",
    "print(t2, e2)\n",
    "print(t3, e3)\n",
    "print(tt, et)\n",
    "print(q, qe)\n",
    "print(s, se)"
   ]
  },
  {
   "cell_type": "code",
   "execution_count": 45,
   "id": "c975ca86",
   "metadata": {},
   "outputs": [],
   "source": [
    "blah = np.array([trap(f, a, b, N) for N in np.linspace(5,1000, 40)])"
   ]
  },
  {
   "cell_type": "code",
   "execution_count": 61,
   "id": "461e73f4",
   "metadata": {},
   "outputs": [],
   "source": [
    "blah = np.hstack((blah, (blah[:,0] - truth).reshape((-1,1))))"
   ]
  },
  {
   "cell_type": "code",
   "execution_count": 29,
   "id": "8b92edd4-acc1-4736-ab9e-218c9304a171",
   "metadata": {},
   "outputs": [
    {
     "name": "stdout",
     "output_type": "stream",
     "text": [
      "8.1 µs ± 11.5 ns per loop (mean ± std. dev. of 7 runs, 100,000 loops each)\n",
      "9.36 µs ± 52.9 ns per loop (mean ± std. dev. of 7 runs, 100,000 loops each)\n"
     ]
    }
   ],
   "source": [
    "%timeit t1, e1, step = rect(f, a, b, 100)\n",
    "%timeit t2, e2 = rect_vec(f, a, b, 100)\n",
    "#%timeit tt, et = trap(f, a, b, 100)\n",
    "#%timeit q, qe, *_ = quad(f, a, b)"
   ]
  },
  {
   "cell_type": "code",
   "execution_count": 62,
   "id": "448061fc",
   "metadata": {},
   "outputs": [
    {
     "data": {
      "text/plain": [
       "array([[ 9.85895074e-01,  6.30972848e-01, -1.19677735e-01],\n",
       "       [ 1.08938915e+00,  1.87213999e-02, -1.61836549e-02],\n",
       "       [ 1.09957527e+00,  5.60494401e-03, -5.99753786e-03],\n",
       "       [ 1.09904015e+00,  2.64489547e-03, -6.53266388e-03],\n",
       "       [ 1.10220983e+00,  1.53886499e-03, -3.36297610e-03],\n",
       "       [ 1.10143312e+00,  1.00282751e-03, -4.13969231e-03],\n",
       "       [ 1.10320401e+00,  7.06380768e-04, -2.36879843e-03],\n",
       "       [ 1.10251686e+00,  5.23369477e-04, -3.05595144e-03],\n",
       "       [ 1.10372526e+00,  4.03889209e-04, -1.84754521e-03],\n",
       "       [ 1.10313492e+00,  3.20653246e-04, -2.43789005e-03],\n",
       "       [ 1.10404609e+00,  2.61055170e-04, -1.52671966e-03],\n",
       "       [ 1.10353435e+00,  2.16403694e-04, -2.03846021e-03],\n",
       "       [ 1.10426342e+00,  1.82491366e-04, -1.30938965e-03],\n",
       "       [ 1.10381371e+00,  1.55817248e-04, -1.75909503e-03],\n",
       "       [ 1.10442037e+00,  1.34712127e-04, -1.15243941e-03],\n",
       "       [ 1.10402007e+00,  1.17522923e-04, -1.55273445e-03],\n",
       "       [ 1.10453903e+00,  1.03506982e-04, -1.03377876e-03],\n",
       "       [ 1.10417874e+00,  9.17885604e-05, -1.39406967e-03],\n",
       "       [ 1.10463189e+00,  8.20105481e-05, -9.40920820e-04],\n",
       "       [ 1.10430453e+00,  7.36667171e-05, -1.26827831e-03],\n",
       "       [ 1.10470653e+00,  6.65763679e-05, -8.66275429e-04],\n",
       "       [ 1.10440671e+00,  6.04261706e-05, -1.16610314e-03],\n",
       "       [ 1.10476785e+00,  5.51220569e-05, -8.04963358e-04],\n",
       "       [ 1.10449134e+00,  5.04591470e-05, -1.08146439e-03],\n",
       "       [ 1.10481910e+00,  4.63882277e-05, -7.53705280e-04],\n",
       "       [ 1.10456260e+00,  4.27691742e-05, -1.01020427e-03],\n",
       "       [ 1.10486259e+00,  3.95769214e-05, -7.10215727e-04],\n",
       "       [ 1.10462343e+00,  3.67119845e-05, -9.49383053e-04],\n",
       "       [ 1.10489996e+00,  3.41626543e-05, -6.72853117e-04],\n",
       "       [ 1.10467595e+00,  3.18560424e-05, -8.96863523e-04],\n",
       "       [ 1.10493240e+00,  2.97879413e-05, -6.40407930e-04],\n",
       "       [ 1.10472175e+00,  2.79034998e-05, -8.51054596e-04],\n",
       "       [ 1.10496084e+00,  2.62027351e-05, -6.11969339e-04],\n",
       "       [ 1.10476206e+00,  2.46434099e-05, -8.10747361e-04],\n",
       "       [ 1.10498597e+00,  2.32278864e-05, -5.86838376e-04],\n",
       "       [ 1.10479780e+00,  2.19229864e-05, -7.75006835e-04],\n",
       "       [ 1.10500834e+00,  2.07323205e-05, -5.64469716e-04],\n",
       "       [ 1.10482971e+00,  1.96293704e-05, -7.43098537e-04],\n",
       "       [ 1.10502838e+00,  1.86183484e-05, -5.44431661e-04],\n",
       "       [ 1.10521679e+00,  1.76834686e-05, -3.56021536e-04]])"
      ]
     },
     "execution_count": 62,
     "metadata": {},
     "output_type": "execute_result"
    }
   ],
   "source": [
    "blah"
   ]
  },
  {
   "cell_type": "code",
   "execution_count": 60,
   "id": "62f2d012",
   "metadata": {},
   "outputs": [
    {
     "data": {
      "text/plain": [
       "array([-0.11967773, -0.01618365, -0.00599754, -0.00653266, -0.00336298,\n",
       "       -0.00413969, -0.0023688 , -0.00305595, -0.00184755, -0.00243789,\n",
       "       -0.00152672, -0.00203846, -0.00130939, -0.0017591 , -0.00115244,\n",
       "       -0.00155273, -0.00103378, -0.00139407, -0.00094092, -0.00126828,\n",
       "       -0.00086628, -0.0011661 , -0.00080496, -0.00108146, -0.00075371,\n",
       "       -0.0010102 , -0.00071022, -0.00094938, -0.00067285, -0.00089686,\n",
       "       -0.00064041, -0.00085105, -0.00061197, -0.00081075, -0.00058684,\n",
       "       -0.00077501, -0.00056447, -0.0007431 , -0.00054443, -0.00035602])"
      ]
     },
     "execution_count": 60,
     "metadata": {},
     "output_type": "execute_result"
    }
   ],
   "source": [
    "asdf"
   ]
  },
  {
   "cell_type": "code",
   "execution_count": 58,
   "id": "3c880328",
   "metadata": {},
   "outputs": [
    {
     "data": {
      "text/plain": [
       "40"
      ]
     },
     "execution_count": 58,
     "metadata": {},
     "output_type": "execute_result"
    }
   ],
   "source": [
    "len(blah[:,0])"
   ]
  },
  {
   "cell_type": "code",
   "execution_count": null,
   "id": "e9a743bf",
   "metadata": {},
   "outputs": [],
   "source": []
  }
 ],
 "metadata": {
  "kernelspec": {
   "display_name": "base",
   "language": "python",
   "name": "python3"
  },
  "language_info": {
   "codemirror_mode": {
    "name": "ipython",
    "version": 3
   },
   "file_extension": ".py",
   "mimetype": "text/x-python",
   "name": "python",
   "nbconvert_exporter": "python",
   "pygments_lexer": "ipython3",
   "version": "3.11.5"
  }
 },
 "nbformat": 4,
 "nbformat_minor": 5
}
