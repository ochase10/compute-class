{
 "cells": [
  {
   "cell_type": "code",
   "execution_count": 25,
   "id": "a4a6dc61-1d81-47f7-8f42-f0ce35f7e176",
   "metadata": {
    "tags": []
   },
   "outputs": [],
   "source": [
    "import numpy as np\n",
    "from matplotlib import pyplot as pl\n",
    "from scipy.integrate import quad"
   ]
  },
  {
   "cell_type": "markdown",
   "id": "ad55fd47-0c77-41f7-bc2f-8fb93f870eb9",
   "metadata": {
    "tags": []
   },
   "source": [
    "# Problem 1"
   ]
  },
  {
   "cell_type": "code",
   "execution_count": 103,
   "id": "9a400189-fca0-4e5d-83a9-495c73b07668",
   "metadata": {
    "tags": []
   },
   "outputs": [],
   "source": [
    "def rect(f, a, b, n):\n",
    "    tot, err = 0, 0\n",
    "    dx = (b - a)/n\n",
    "    x = a\n",
    "    next_val = f(a)\n",
    "    val = 0\n",
    "    while x < b:\n",
    "        val = next_val\n",
    "        tot += val * dx\n",
    "        x += dx\n",
    "        next_val = f(x)\n",
    "        err += dx * abs(val-next_val) / 2\n",
    "\n",
    "    return tot, err, dx\n",
    "\n",
    "def rect_vec(f, a, b, n):\n",
    "    xs = np.linspace(a, b, n+1)[:-1]\n",
    "    dx = (xs[1]-xs[0])\n",
    "    vals = np.vectorize(f)(xs)\n",
    "    err = 0.5 * np.sum(np.abs(vals[1:]-vals[:-1])) * dx\n",
    "    return np.sum(vals)*dx, err\n",
    "\n",
    "\n",
    "def trap(f, a, b, n):\n",
    "    tot, err = 0, 0\n",
    "    dx = (b - a)/n\n",
    "    x = a + dx/2\n",
    "    next_val = f(x)\n",
    "    err = abs(next_val - f(a)) / 2 * dx\n",
    "    val = 0\n",
    "    while x < b:\n",
    "        val = next_val\n",
    "        tot += val * dx\n",
    "        x += dx\n",
    "        next_val = f(x)\n",
    "    return tot, err"
   ]
  },
  {
   "cell_type": "code",
   "execution_count": 16,
   "id": "664c7dcf-a965-4e05-9e92-fb9b2d070128",
   "metadata": {
    "tags": []
   },
   "outputs": [],
   "source": [
    "f = lambda x: x**(-3/2)\n",
    "a, b = 1, 5"
   ]
  },
  {
   "cell_type": "code",
   "execution_count": 105,
   "id": "4a36c43d-2ab0-4a0b-9c81-107ded222aee",
   "metadata": {
    "tags": []
   },
   "outputs": [
    {
     "name": "stdout",
     "output_type": "stream",
     "text": [
      "1.1239803303199585 0.01821114561800018\n",
      "1.12398033031996 0.018189462681181722\n",
      "1.105474638616042 0.0005853422945750131\n",
      "1.1055728090000843 5.444307667957722e-13\n"
     ]
    }
   ],
   "source": [
    "#%timeit t1, e1, step = rect(f, a, b, 100)\n",
    "#%timeit t2, e2 = rect_vec(f, a, b, 100)\n",
    "#%timeit tt, et = trap(f, a, b, 100)\n",
    "#%timeit q, qe, *_ = quad(f, a, b)\n",
    "print(t1, e1)\n",
    "print(t2, e2)\n",
    "print(tt, et)\n",
    "print(q, qe)"
   ]
  },
  {
   "cell_type": "code",
   "execution_count": 29,
   "id": "75a89468-4e10-4fb6-8b89-d6b826e5e4e3",
   "metadata": {
    "tags": []
   },
   "outputs": [
    {
     "data": {
      "text/plain": [
       "1.1055728090000843"
      ]
     },
     "execution_count": 29,
     "metadata": {},
     "output_type": "execute_result"
    }
   ],
   "source": [
    "2 * (1 - 5**-0.5)"
   ]
  },
  {
   "cell_type": "code",
   "execution_count": 104,
   "id": "4d06b785-c92f-4358-9514-7cbf1ab31345",
   "metadata": {
    "tags": []
   },
   "outputs": [],
   "source": [
    "tt, et = trap(f, a, b, 100)"
   ]
  },
  {
   "cell_type": "code",
   "execution_count": null,
   "id": "8b92edd4-acc1-4736-ab9e-218c9304a171",
   "metadata": {},
   "outputs": [],
   "source": []
  }
 ],
 "metadata": {
  "kernelspec": {
   "display_name": "Python 3 (ipykernel)",
   "language": "python",
   "name": "python3"
  },
  "language_info": {
   "codemirror_mode": {
    "name": "ipython",
    "version": 3
   },
   "file_extension": ".py",
   "mimetype": "text/x-python",
   "name": "python",
   "nbconvert_exporter": "python",
   "pygments_lexer": "ipython3",
   "version": "3.11.5"
  }
 },
 "nbformat": 4,
 "nbformat_minor": 5
}
